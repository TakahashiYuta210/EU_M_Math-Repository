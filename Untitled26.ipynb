{
  "nbformat": 4,
  "nbformat_minor": 0,
  "metadata": {
    "colab": {
      "name": "Untitled26.ipynb",
      "provenance": [],
      "authorship_tag": "ABX9TyPO+TEfrRc7uF3bcIwpYZaV",
      "include_colab_link": true
    },
    "kernelspec": {
      "name": "python3",
      "display_name": "Python 3"
    },
    "language_info": {
      "name": "python"
    }
  },
  "cells": [
    {
      "cell_type": "markdown",
      "metadata": {
        "id": "view-in-github",
        "colab_type": "text"
      },
      "source": [
        "<a href=\"https://colab.research.google.com/github/TakahashiYuta210/EU_M_Math-Repository/blob/Neural-Network-%E8%AA%B2%E9%A1%8C/Untitled26.ipynb\" target=\"_parent\"><img src=\"https://colab.research.google.com/assets/colab-badge.svg\" alt=\"Open In Colab\"/></a>"
      ]
    },
    {
      "cell_type": "code",
      "execution_count": null,
      "metadata": {
        "id": "tkWO5JwVmqVs"
      },
      "outputs": [],
      "source": [
        "import numpy as np\n",
        "from sklearn.datasets import load_iris\n",
        "from sklearn.linear_model import Perceptron\n",
        "from sklearn.model_selection import train_test_split\n",
        "from sklearn.metrics import accuracy_score"
      ]
    },
    {
      "cell_type": "code",
      "source": [
        "#データセットをロード\n",
        "iris = load_iris()\n",
        "#predictor と target に分ける\n",
        "X = iris.data\n",
        "#Iris Setosaが1の値をとり、それ以外は0\n",
        "Y = (iris.target==0).astype(int)"
      ],
      "metadata": {
        "id": "EbjdAfgsmt6R"
      },
      "execution_count": 10,
      "outputs": []
    },
    {
      "cell_type": "code",
      "source": [
        "#データセットのシャッフルをして、トレーニング用とテスト用のデータに分ける\n",
        "#モデルの評価をしっかりやりたい時は、cross validationを実行、さらにハイパーパラメータの最適化を行う\n",
        "train_X, test_X, train_Y, test_Y = train_test_split(X,Y,test_size = 0.3, random_state=42, shuffle=True)"
      ],
      "metadata": {
        "id": "3_E0Q0Cam4eH"
      },
      "execution_count": 11,
      "outputs": []
    },
    {
      "cell_type": "code",
      "source": [
        "#トレーニング\n",
        "perc_clf = Perceptron()\n",
        "perc_clf.fit(train_X,train_Y)\n",
        "#テスト\n",
        "predictions = perc_clf.predict(test_X)\n",
        "#Accuracyを計算\n",
        "print(\"Accuracy: \" +str(accuracy_score(test_Y,predictions)))"
      ],
      "metadata": {
        "colab": {
          "base_uri": "https://localhost:8080/"
        },
        "id": "4zn1_UYnm8pC",
        "outputId": "188a92b2-c32e-4b5b-eb35-5c5606a57353"
      },
      "execution_count": 12,
      "outputs": [
        {
          "output_type": "stream",
          "name": "stdout",
          "text": [
            "Accuracy: 1.0\n"
          ]
        }
      ]
    },
    {
      "cell_type": "code",
      "source": [
        "from sklearn.datasets import load_iris\n",
        "from sklearn.neural_network import MLPClassifier\n",
        "from sklearn.model_selection import train_test_split\n",
        "from sklearn.metrics import accuracy_score"
      ],
      "metadata": {
        "id": "0Ni1PCi_nUD1"
      },
      "execution_count": 19,
      "outputs": []
    },
    {
      "cell_type": "code",
      "source": [
        "#データセットをロード\n",
        "iris = load_iris()\n",
        "#predictor と target に分ける\n",
        "X = iris.data\n",
        "Y = iris.target\n",
        "\n",
        "#データセットのシャッフルをして、トレーニング用とテスト用のデータに分ける\n",
        "train_X, test_X, train_Y, test_Y = train_test_split(X,Y,test_size = 0.3, random_state=42, shuffle=True)\n",
        "\n",
        "#二つのHidden Layer を追加、それぞれ10個のニューロンを持つ\n",
        "mlp_clsf = MLPClassifier((10,10),activation ='relu',learning_rate='constant',learning_rate_init=0.001,max_iter=1000,random_state=42)\n",
        "mlp_clsf.fit(train_X,train_Y)\n",
        "predictions = mlp_clsf.predict(test_X)\n",
        "print(\"Accuracy: \"+str(accuracy_score(test_Y,predictions)))\n",
        "\n",
        "mlp_clsf.predict_proba(test_X[0].reshape(1,-1)).sum()"
      ],
      "metadata": {
        "colab": {
          "base_uri": "https://localhost:8080/"
        },
        "id": "1DFwQkfSnnJM",
        "outputId": "6bd8d906-d05d-40b4-87a5-9411acb758d0"
      },
      "execution_count": 28,
      "outputs": [
        {
          "output_type": "stream",
          "name": "stdout",
          "text": [
            "Accuracy: 0.9777777777777777\n"
          ]
        },
        {
          "output_type": "execute_result",
          "data": {
            "text/plain": [
              "1.0"
            ]
          },
          "metadata": {},
          "execution_count": 28
        }
      ]
    },
    {
      "cell_type": "code",
      "source": [
        "mlp_clsf.out_activation_"
      ],
      "metadata": {
        "colab": {
          "base_uri": "https://localhost:8080/",
          "height": 36
        },
        "id": "Hqfi3YRszkyM",
        "outputId": "f521661a-012b-4bd4-d0d6-e8d82ad304fe"
      },
      "execution_count": 67,
      "outputs": [
        {
          "output_type": "execute_result",
          "data": {
            "text/plain": [
              "'softmax'"
            ],
            "application/vnd.google.colaboratory.intrinsic+json": {
              "type": "string"
            }
          },
          "metadata": {},
          "execution_count": 67
        }
      ]
    },
    {
      "cell_type": "code",
      "source": [
        "from sklearn.datasets import load_boston\n",
        "from sklearn.neural_network import MLPRegressor\n",
        "from sklearn.model_selection import train_test_split\n",
        "from sklearn.metrics import mean_squared_error"
      ],
      "metadata": {
        "id": "eoCtwDQpoFq8"
      },
      "execution_count": 23,
      "outputs": []
    },
    {
      "cell_type": "code",
      "source": [
        "#データセットをロード\n",
        "dataset = load_boston()\n",
        "X = dataset['data']\n",
        "Y = dataset['target']\n",
        "#テストとトレーニングのデータセットに分ける\n",
        "#モデルの評価をしっかりやりたい時は、validationのデータセットを作るのが良い。\n",
        "train_X, test_X, train_Y, test_Y = train_test_split(X,Y, test_size = 0.3, random_state = 42, shuffle=True)\n",
        "\n",
        "#2個のhidden layerを追加 activation function は relu.\n",
        "mlp_reg = MLPRegressor((10,10),activation ='relu',learning_rate='constant',learning_rate_init=0.001,max_iter=3000,random_state=42)\n",
        "mlp_reg.fit(train_X,train_Y)\n",
        "predictions = mlp_reg.predict(test_X)\n",
        "#RSMEを計算\n",
        "error = mean_squared_error(test_Y,predictions) ** (1/2)\n",
        "print(\"RSME: \" +str(error))"
      ],
      "metadata": {
        "colab": {
          "base_uri": "https://localhost:8080/"
        },
        "id": "9rJipDbJpHI3",
        "outputId": "f8d665d9-7c82-46c7-ad42-bc0f511dcdd0"
      },
      "execution_count": 30,
      "outputs": [
        {
          "output_type": "stream",
          "name": "stderr",
          "text": [
            "/usr/local/lib/python3.7/dist-packages/sklearn/utils/deprecation.py:87: FutureWarning: Function load_boston is deprecated; `load_boston` is deprecated in 1.0 and will be removed in 1.2.\n",
            "\n",
            "    The Boston housing prices dataset has an ethical problem. You can refer to\n",
            "    the documentation of this function for further details.\n",
            "\n",
            "    The scikit-learn maintainers therefore strongly discourage the use of this\n",
            "    dataset unless the purpose of the code is to study and educate about\n",
            "    ethical issues in data science and machine learning.\n",
            "\n",
            "    In this special case, you can fetch the dataset from the original\n",
            "    source::\n",
            "\n",
            "        import pandas as pd\n",
            "        import numpy as np\n",
            "\n",
            "\n",
            "        data_url = \"http://lib.stat.cmu.edu/datasets/boston\"\n",
            "        raw_df = pd.read_csv(data_url, sep=\"\\s+\", skiprows=22, header=None)\n",
            "        data = np.hstack([raw_df.values[::2, :], raw_df.values[1::2, :2]])\n",
            "        target = raw_df.values[1::2, 2]\n",
            "\n",
            "    Alternative datasets include the California housing dataset (i.e.\n",
            "    :func:`~sklearn.datasets.fetch_california_housing`) and the Ames housing\n",
            "    dataset. You can load the datasets as follows::\n",
            "\n",
            "        from sklearn.datasets import fetch_california_housing\n",
            "        housing = fetch_california_housing()\n",
            "\n",
            "    for the California housing dataset and::\n",
            "\n",
            "        from sklearn.datasets import fetch_openml\n",
            "        housing = fetch_openml(name=\"house_prices\", as_frame=True)\n",
            "\n",
            "    for the Ames housing dataset.\n",
            "    \n",
            "  warnings.warn(msg, category=FutureWarning)\n"
          ]
        },
        {
          "output_type": "stream",
          "name": "stdout",
          "text": [
            "RSME: 4.699377521565086\n"
          ]
        }
      ]
    },
    {
      "cell_type": "code",
      "source": [
        "mlp_reg.out_activation_"
      ],
      "metadata": {
        "colab": {
          "base_uri": "https://localhost:8080/",
          "height": 36
        },
        "id": "S_6m2Foyz6S8",
        "outputId": "c457f18a-a7fc-484d-b9b2-35a4cc2f9c9a"
      },
      "execution_count": 68,
      "outputs": [
        {
          "output_type": "execute_result",
          "data": {
            "text/plain": [
              "'identity'"
            ],
            "application/vnd.google.colaboratory.intrinsic+json": {
              "type": "string"
            }
          },
          "metadata": {},
          "execution_count": 68
        }
      ]
    },
    {
      "cell_type": "code",
      "source": [
        "import tensorflow as tf\n",
        "from tensorflow import keras\n",
        "from sklearn.preprocessing import StandardScaler"
      ],
      "metadata": {
        "id": "4QYwvCSxpqIj"
      },
      "execution_count": 25,
      "outputs": []
    },
    {
      "cell_type": "code",
      "source": [
        "#データセットをダウンロード\n",
        "house_price = keras.datasets.boston_housing\n",
        "#データをtraining, validation, test に分ける\n",
        "(train_X, train_Y), (test_X, test_Y) = house_price.load_data()\n",
        "train_X, valid_X, train_Y, valid_Y = train_test_split(train_X, train_Y)"
      ],
      "metadata": {
        "colab": {
          "base_uri": "https://localhost:8080/"
        },
        "id": "SsIz5gAuqvN0",
        "outputId": "0dbf3b12-1244-4009-b0f7-9194846ef3f9"
      },
      "execution_count": 31,
      "outputs": [
        {
          "output_type": "stream",
          "name": "stdout",
          "text": [
            "Downloading data from https://storage.googleapis.com/tensorflow/tf-keras-datasets/boston_housing.npz\n",
            "57344/57026 [==============================] - 0s 0us/step\n",
            "65536/57026 [==================================] - 0s 0us/step\n"
          ]
        }
      ]
    },
    {
      "cell_type": "code",
      "source": [
        "#変数をスケーリング 最適化を早くするため\n",
        "scaler = StandardScaler()\n",
        "train_X = scaler.fit_transform(train_X)\n",
        "valid_X = scaler.fit_transform(valid_X)\n",
        "test_X = scaler.fit_transform(test_X)\n",
        "#KerasのSequential model を使う\n",
        "keras_model = keras.models.Sequential()\n",
        "#インプットレイヤーを追加\n",
        "keras_model.add(tf.keras.Input(shape=train_X.shape[1:],))\n",
        "#Hidden layer を追加\n",
        "keras_model.add(tf.keras.layers.Dense(30,activation=\"relu\"))\n",
        "#Output layer を追加\n",
        "keras_model.add(tf.keras.layers.Dense(1))\n",
        "keras_model.summary()"
      ],
      "metadata": {
        "colab": {
          "base_uri": "https://localhost:8080/"
        },
        "id": "P2mcWtiXqzub",
        "outputId": "0bdb72d6-e154-402e-9fbe-d2fc1b903bdf"
      },
      "execution_count": 32,
      "outputs": [
        {
          "output_type": "stream",
          "name": "stdout",
          "text": [
            "Model: \"sequential\"\n",
            "_________________________________________________________________\n",
            " Layer (type)                Output Shape              Param #   \n",
            "=================================================================\n",
            " dense (Dense)               (None, 30)                420       \n",
            "                                                                 \n",
            " dense_1 (Dense)             (None, 1)                 31        \n",
            "                                                                 \n",
            "=================================================================\n",
            "Total params: 451\n",
            "Trainable params: 451\n",
            "Non-trainable params: 0\n",
            "_________________________________________________________________\n"
          ]
        }
      ]
    },
    {
      "cell_type": "code",
      "source": [
        "#モデルをコンパイル\n",
        "keras_model.compile(loss=\"mean_squared_error\", optimizer=\"sgd\",metrics=[tf.keras.metrics.RootMeanSquaredError(\n",
        "    name=\"root_mean_squared_error\", dtype=None)])\n",
        "#モデルをトレーニング\n",
        "#validationのデータセットがあれば、それを渡すことで、validationに関してのlossやRMSEの計算なども簡単にできる。\n",
        "history = keras_model.fit(train_X, train_Y, epochs=70, validation_data=(valid_X, valid_Y))"
      ],
      "metadata": {
        "colab": {
          "base_uri": "https://localhost:8080/"
        },
        "id": "jVuE8AoQq_0j",
        "outputId": "b9552040-2b28-4da2-ff11-e9e29246fbdb"
      },
      "execution_count": 37,
      "outputs": [
        {
          "output_type": "stream",
          "name": "stdout",
          "text": [
            "Epoch 1/70\n",
            "10/10 [==============================] - 1s 25ms/step - loss: 171.3686 - root_mean_squared_error: 13.0908 - val_loss: 48.8984 - val_root_mean_squared_error: 6.9927\n",
            "Epoch 2/70\n",
            "10/10 [==============================] - 0s 8ms/step - loss: 21.3028 - root_mean_squared_error: 4.6155 - val_loss: 38.1448 - val_root_mean_squared_error: 6.1761\n",
            "Epoch 3/70\n",
            "10/10 [==============================] - 0s 7ms/step - loss: 19.8319 - root_mean_squared_error: 4.4533 - val_loss: 36.9725 - val_root_mean_squared_error: 6.0805\n",
            "Epoch 4/70\n",
            "10/10 [==============================] - 0s 6ms/step - loss: 14.3755 - root_mean_squared_error: 3.7915 - val_loss: 27.8339 - val_root_mean_squared_error: 5.2758\n",
            "Epoch 5/70\n",
            "10/10 [==============================] - 0s 8ms/step - loss: 13.3168 - root_mean_squared_error: 3.6492 - val_loss: 34.0909 - val_root_mean_squared_error: 5.8387\n",
            "Epoch 6/70\n",
            "10/10 [==============================] - 0s 6ms/step - loss: 12.3751 - root_mean_squared_error: 3.5178 - val_loss: 34.0095 - val_root_mean_squared_error: 5.8318\n",
            "Epoch 7/70\n",
            "10/10 [==============================] - 0s 6ms/step - loss: 15.5327 - root_mean_squared_error: 3.9412 - val_loss: 30.4825 - val_root_mean_squared_error: 5.5211\n",
            "Epoch 8/70\n",
            "10/10 [==============================] - 0s 8ms/step - loss: 10.4065 - root_mean_squared_error: 3.2259 - val_loss: 21.4769 - val_root_mean_squared_error: 4.6343\n",
            "Epoch 9/70\n",
            "10/10 [==============================] - 0s 7ms/step - loss: 9.0860 - root_mean_squared_error: 3.0143 - val_loss: 24.9366 - val_root_mean_squared_error: 4.9937\n",
            "Epoch 10/70\n",
            "10/10 [==============================] - 0s 8ms/step - loss: 11.1532 - root_mean_squared_error: 3.3396 - val_loss: 20.1651 - val_root_mean_squared_error: 4.4906\n",
            "Epoch 11/70\n",
            "10/10 [==============================] - 0s 8ms/step - loss: 9.3574 - root_mean_squared_error: 3.0590 - val_loss: 20.2472 - val_root_mean_squared_error: 4.4997\n",
            "Epoch 12/70\n",
            "10/10 [==============================] - 0s 9ms/step - loss: 8.4245 - root_mean_squared_error: 2.9025 - val_loss: 23.1191 - val_root_mean_squared_error: 4.8082\n",
            "Epoch 13/70\n",
            "10/10 [==============================] - 0s 8ms/step - loss: 8.0980 - root_mean_squared_error: 2.8457 - val_loss: 25.3794 - val_root_mean_squared_error: 5.0378\n",
            "Epoch 14/70\n",
            "10/10 [==============================] - 0s 6ms/step - loss: 7.8144 - root_mean_squared_error: 2.7954 - val_loss: 22.9431 - val_root_mean_squared_error: 4.7899\n",
            "Epoch 15/70\n",
            "10/10 [==============================] - 0s 9ms/step - loss: 7.6328 - root_mean_squared_error: 2.7627 - val_loss: 36.2952 - val_root_mean_squared_error: 6.0245\n",
            "Epoch 16/70\n",
            "10/10 [==============================] - 0s 7ms/step - loss: 8.7968 - root_mean_squared_error: 2.9659 - val_loss: 30.3111 - val_root_mean_squared_error: 5.5055\n",
            "Epoch 17/70\n",
            "10/10 [==============================] - 0s 5ms/step - loss: 8.8862 - root_mean_squared_error: 2.9810 - val_loss: 22.9576 - val_root_mean_squared_error: 4.7914\n",
            "Epoch 18/70\n",
            "10/10 [==============================] - 0s 7ms/step - loss: 7.8652 - root_mean_squared_error: 2.8045 - val_loss: 19.7950 - val_root_mean_squared_error: 4.4492\n",
            "Epoch 19/70\n",
            "10/10 [==============================] - 0s 6ms/step - loss: 6.8669 - root_mean_squared_error: 2.6205 - val_loss: 22.4442 - val_root_mean_squared_error: 4.7375\n",
            "Epoch 20/70\n",
            "10/10 [==============================] - 0s 6ms/step - loss: 7.6860 - root_mean_squared_error: 2.7724 - val_loss: 20.7124 - val_root_mean_squared_error: 4.5511\n",
            "Epoch 21/70\n",
            "10/10 [==============================] - 0s 7ms/step - loss: 7.6773 - root_mean_squared_error: 2.7708 - val_loss: 26.7934 - val_root_mean_squared_error: 5.1762\n",
            "Epoch 22/70\n",
            "10/10 [==============================] - 0s 6ms/step - loss: 8.2221 - root_mean_squared_error: 2.8674 - val_loss: 21.9450 - val_root_mean_squared_error: 4.6845\n",
            "Epoch 23/70\n",
            "10/10 [==============================] - 0s 7ms/step - loss: 7.8346 - root_mean_squared_error: 2.7990 - val_loss: 25.8166 - val_root_mean_squared_error: 5.0810\n",
            "Epoch 24/70\n",
            "10/10 [==============================] - 0s 8ms/step - loss: 8.5479 - root_mean_squared_error: 2.9237 - val_loss: 23.5277 - val_root_mean_squared_error: 4.8505\n",
            "Epoch 25/70\n",
            "10/10 [==============================] - 0s 6ms/step - loss: 7.4125 - root_mean_squared_error: 2.7226 - val_loss: 23.5243 - val_root_mean_squared_error: 4.8502\n",
            "Epoch 26/70\n",
            "10/10 [==============================] - 0s 6ms/step - loss: 6.7790 - root_mean_squared_error: 2.6037 - val_loss: 23.0387 - val_root_mean_squared_error: 4.7999\n",
            "Epoch 27/70\n",
            "10/10 [==============================] - 0s 7ms/step - loss: 7.1391 - root_mean_squared_error: 2.6719 - val_loss: 20.3745 - val_root_mean_squared_error: 4.5138\n",
            "Epoch 28/70\n",
            "10/10 [==============================] - 0s 6ms/step - loss: 7.3938 - root_mean_squared_error: 2.7191 - val_loss: 20.4877 - val_root_mean_squared_error: 4.5263\n",
            "Epoch 29/70\n",
            "10/10 [==============================] - 0s 6ms/step - loss: 6.5210 - root_mean_squared_error: 2.5536 - val_loss: 35.3451 - val_root_mean_squared_error: 5.9452\n",
            "Epoch 30/70\n",
            "10/10 [==============================] - 0s 5ms/step - loss: 7.8758 - root_mean_squared_error: 2.8064 - val_loss: 20.6843 - val_root_mean_squared_error: 4.5480\n",
            "Epoch 31/70\n",
            "10/10 [==============================] - 0s 7ms/step - loss: 6.9504 - root_mean_squared_error: 2.6364 - val_loss: 20.6220 - val_root_mean_squared_error: 4.5411\n",
            "Epoch 32/70\n",
            "10/10 [==============================] - 0s 39ms/step - loss: 8.1781 - root_mean_squared_error: 2.8597 - val_loss: 22.2574 - val_root_mean_squared_error: 4.7178\n",
            "Epoch 33/70\n",
            "10/10 [==============================] - 0s 8ms/step - loss: 7.5343 - root_mean_squared_error: 2.7449 - val_loss: 19.3198 - val_root_mean_squared_error: 4.3954\n",
            "Epoch 34/70\n",
            "10/10 [==============================] - 0s 7ms/step - loss: 6.7033 - root_mean_squared_error: 2.5891 - val_loss: 22.7246 - val_root_mean_squared_error: 4.7670\n",
            "Epoch 35/70\n",
            "10/10 [==============================] - 0s 8ms/step - loss: 7.5981 - root_mean_squared_error: 2.7565 - val_loss: 30.4330 - val_root_mean_squared_error: 5.5166\n",
            "Epoch 36/70\n",
            "10/10 [==============================] - 0s 7ms/step - loss: 6.7565 - root_mean_squared_error: 2.5993 - val_loss: 22.1232 - val_root_mean_squared_error: 4.7035\n",
            "Epoch 37/70\n",
            "10/10 [==============================] - 0s 8ms/step - loss: 6.3930 - root_mean_squared_error: 2.5284 - val_loss: 25.6854 - val_root_mean_squared_error: 5.0681\n",
            "Epoch 38/70\n",
            "10/10 [==============================] - 0s 6ms/step - loss: 6.7938 - root_mean_squared_error: 2.6065 - val_loss: 21.4045 - val_root_mean_squared_error: 4.6265\n",
            "Epoch 39/70\n",
            "10/10 [==============================] - 0s 6ms/step - loss: 6.8061 - root_mean_squared_error: 2.6089 - val_loss: 21.6284 - val_root_mean_squared_error: 4.6506\n",
            "Epoch 40/70\n",
            "10/10 [==============================] - 0s 8ms/step - loss: 7.0517 - root_mean_squared_error: 2.6555 - val_loss: 18.2335 - val_root_mean_squared_error: 4.2701\n",
            "Epoch 41/70\n",
            "10/10 [==============================] - 0s 7ms/step - loss: 6.2633 - root_mean_squared_error: 2.5027 - val_loss: 24.2504 - val_root_mean_squared_error: 4.9245\n",
            "Epoch 42/70\n",
            "10/10 [==============================] - 0s 7ms/step - loss: 6.5944 - root_mean_squared_error: 2.5680 - val_loss: 22.0036 - val_root_mean_squared_error: 4.6908\n",
            "Epoch 43/70\n",
            "10/10 [==============================] - 0s 5ms/step - loss: 6.6023 - root_mean_squared_error: 2.5695 - val_loss: 16.5948 - val_root_mean_squared_error: 4.0737\n",
            "Epoch 44/70\n",
            "10/10 [==============================] - 0s 5ms/step - loss: 6.6902 - root_mean_squared_error: 2.5865 - val_loss: 32.5267 - val_root_mean_squared_error: 5.7032\n",
            "Epoch 45/70\n",
            "10/10 [==============================] - 0s 5ms/step - loss: 6.8729 - root_mean_squared_error: 2.6216 - val_loss: 27.5240 - val_root_mean_squared_error: 5.2463\n",
            "Epoch 46/70\n",
            "10/10 [==============================] - 0s 7ms/step - loss: 5.9851 - root_mean_squared_error: 2.4465 - val_loss: 21.9556 - val_root_mean_squared_error: 4.6857\n",
            "Epoch 47/70\n",
            "10/10 [==============================] - 0s 7ms/step - loss: 5.9912 - root_mean_squared_error: 2.4477 - val_loss: 20.6380 - val_root_mean_squared_error: 4.5429\n",
            "Epoch 48/70\n",
            "10/10 [==============================] - 0s 7ms/step - loss: 6.3512 - root_mean_squared_error: 2.5202 - val_loss: 21.4517 - val_root_mean_squared_error: 4.6316\n",
            "Epoch 49/70\n",
            "10/10 [==============================] - 0s 8ms/step - loss: 7.2793 - root_mean_squared_error: 2.6980 - val_loss: 19.2194 - val_root_mean_squared_error: 4.3840\n",
            "Epoch 50/70\n",
            "10/10 [==============================] - 0s 6ms/step - loss: 6.2688 - root_mean_squared_error: 2.5038 - val_loss: 19.7553 - val_root_mean_squared_error: 4.4447\n",
            "Epoch 51/70\n",
            "10/10 [==============================] - 0s 8ms/step - loss: 6.2223 - root_mean_squared_error: 2.4945 - val_loss: 19.5313 - val_root_mean_squared_error: 4.4194\n",
            "Epoch 52/70\n",
            "10/10 [==============================] - 0s 7ms/step - loss: 5.8472 - root_mean_squared_error: 2.4181 - val_loss: 16.9521 - val_root_mean_squared_error: 4.1173\n",
            "Epoch 53/70\n",
            "10/10 [==============================] - 0s 6ms/step - loss: 6.1296 - root_mean_squared_error: 2.4758 - val_loss: 27.6010 - val_root_mean_squared_error: 5.2537\n",
            "Epoch 54/70\n",
            "10/10 [==============================] - 0s 7ms/step - loss: 6.4865 - root_mean_squared_error: 2.5469 - val_loss: 19.7615 - val_root_mean_squared_error: 4.4454\n",
            "Epoch 55/70\n",
            "10/10 [==============================] - 0s 6ms/step - loss: 5.7826 - root_mean_squared_error: 2.4047 - val_loss: 20.3274 - val_root_mean_squared_error: 4.5086\n",
            "Epoch 56/70\n",
            "10/10 [==============================] - 0s 6ms/step - loss: 5.4773 - root_mean_squared_error: 2.3404 - val_loss: 18.2811 - val_root_mean_squared_error: 4.2756\n",
            "Epoch 57/70\n",
            "10/10 [==============================] - 0s 8ms/step - loss: 6.4853 - root_mean_squared_error: 2.5466 - val_loss: 22.1896 - val_root_mean_squared_error: 4.7106\n",
            "Epoch 58/70\n",
            "10/10 [==============================] - 0s 6ms/step - loss: 5.5913 - root_mean_squared_error: 2.3646 - val_loss: 18.1214 - val_root_mean_squared_error: 4.2569\n",
            "Epoch 59/70\n",
            "10/10 [==============================] - 0s 8ms/step - loss: 5.7644 - root_mean_squared_error: 2.4009 - val_loss: 16.9586 - val_root_mean_squared_error: 4.1181\n",
            "Epoch 60/70\n",
            "10/10 [==============================] - 0s 6ms/step - loss: 6.5437 - root_mean_squared_error: 2.5581 - val_loss: 18.3756 - val_root_mean_squared_error: 4.2867\n",
            "Epoch 61/70\n",
            "10/10 [==============================] - 0s 6ms/step - loss: 6.2708 - root_mean_squared_error: 2.5042 - val_loss: 18.7608 - val_root_mean_squared_error: 4.3314\n",
            "Epoch 62/70\n",
            "10/10 [==============================] - 0s 9ms/step - loss: 6.1283 - root_mean_squared_error: 2.4755 - val_loss: 19.9050 - val_root_mean_squared_error: 4.4615\n",
            "Epoch 63/70\n",
            "10/10 [==============================] - 0s 6ms/step - loss: 5.7746 - root_mean_squared_error: 2.4030 - val_loss: 19.8225 - val_root_mean_squared_error: 4.4522\n",
            "Epoch 64/70\n",
            "10/10 [==============================] - 0s 7ms/step - loss: 5.4034 - root_mean_squared_error: 2.3245 - val_loss: 21.5407 - val_root_mean_squared_error: 4.6412\n",
            "Epoch 65/70\n",
            "10/10 [==============================] - 0s 8ms/step - loss: 5.5924 - root_mean_squared_error: 2.3648 - val_loss: 19.5183 - val_root_mean_squared_error: 4.4179\n",
            "Epoch 66/70\n",
            "10/10 [==============================] - 0s 6ms/step - loss: 4.8700 - root_mean_squared_error: 2.2068 - val_loss: 20.5774 - val_root_mean_squared_error: 4.5362\n",
            "Epoch 67/70\n",
            "10/10 [==============================] - 0s 6ms/step - loss: 6.7969 - root_mean_squared_error: 2.6071 - val_loss: 21.8181 - val_root_mean_squared_error: 4.6710\n",
            "Epoch 68/70\n",
            "10/10 [==============================] - 0s 7ms/step - loss: 5.9467 - root_mean_squared_error: 2.4386 - val_loss: 18.9732 - val_root_mean_squared_error: 4.3558\n",
            "Epoch 69/70\n",
            "10/10 [==============================] - 0s 8ms/step - loss: 5.8572 - root_mean_squared_error: 2.4202 - val_loss: 20.2243 - val_root_mean_squared_error: 4.4971\n",
            "Epoch 70/70\n",
            "10/10 [==============================] - 0s 6ms/step - loss: 5.2908 - root_mean_squared_error: 2.3002 - val_loss: 17.2052 - val_root_mean_squared_error: 4.1479\n"
          ]
        }
      ]
    },
    {
      "cell_type": "code",
      "source": [
        "import pandas as pd\n",
        "import matplotlib.pyplot as plt\n",
        "pd.DataFrame(history.history).plot(figsize=(10,8))\n",
        "plt.grid(True)\n",
        "plt.gca().set_ylim(0,60)\n",
        "plt.xlabel(\"# af Epocs\")\n",
        "plt.show()"
      ],
      "metadata": {
        "colab": {
          "base_uri": "https://localhost:8080/",
          "height": 501
        },
        "id": "OaIZlpgxk9Ba",
        "outputId": "5246909c-3d9a-4e1c-9c4e-40e3de9cafcf"
      },
      "execution_count": 40,
      "outputs": [
        {
          "output_type": "display_data",
          "data": {
            "text/plain": [
              "<Figure size 720x576 with 1 Axes>"
            ],
            "image/png": "[encoded data removed]"
          },
          "metadata": {
            "needs_background": "light"
          }
        }
      ]
    },
    {
      "cell_type": "code",
      "source": [
        "mean_squared_error(test_Y,keras_model.predict(test_X)) ** (1/2)"
      ],
      "metadata": {
        "colab": {
          "base_uri": "https://localhost:8080/"
        },
        "id": "GF-crZs7mK86",
        "outputId": "13c61589-4fd8-4f40-8903-48132de46cfc"
      },
      "execution_count": 44,
      "outputs": [
        {
          "output_type": "execute_result",
          "data": {
            "text/plain": [
              "4.156205446075626"
            ]
          },
          "metadata": {},
          "execution_count": 44
        }
      ]
    },
    {
      "cell_type": "code",
      "source": [
        "#データをダウンロードして、トレーニングとテストに分ける\n",
        "(train_X, train_Y),(test_X,test_Y) = tf.keras.datasets.mnist.load_data(path=\"mnist.npz\")\n"
      ],
      "metadata": {
        "id": "naY4PFeygNU0"
      },
      "execution_count": 59,
      "outputs": []
    },
    {
      "cell_type": "code",
      "source": [
        "#イメージを実際に視覚化してみる\n",
        "from matplotlib import pyplot as plt\n",
        "plt.imshow(train_X[0],cmap='Greys')\n",
        "plt.show()"
      ],
      "metadata": {
        "colab": {
          "base_uri": "https://localhost:8080/",
          "height": 265
        },
        "id": "N60bpXd1ihEi",
        "outputId": "05944efd-3e6e-4abe-e006-48c23530395f"
      },
      "execution_count": 60,
      "outputs": [
        {
          "output_type": "display_data",
          "data": {
            "text/plain": [
              "<Figure size 432x288 with 1 Axes>"
            ],
            "image/png": "[encoded data removed]"
          },
          "metadata": {
            "needs_background": "light"
          }
        }
      ]
    },
    {
      "cell_type": "code",
      "source": [
        "import tensorflow as tf\n",
        "from tensorflow import keras\n",
        "from sklearn.preprocessing import StandardScaler"
      ],
      "metadata": {
        "id": "2MHGFrFqkJwW"
      },
      "execution_count": 61,
      "outputs": []
    },
    {
      "cell_type": "code",
      "source": [
        "#training と validationに分ける\n",
        "train_X, valid_X, train_Y, valid_Y = train_test_split(train_X, train_Y)\n",
        "#最適化のアルゴリズムを早くするために、変数をスケーリングします。\n",
        "train_X = train_X / 255.0\n",
        "valid_X = valid_X / 255.0\n",
        "test_X = test_X / 255.0\n",
        "keras_clf = keras.models.Sequential()\n",
        "#input layerを作る。もともとのinputのデータが2-Dなので、1Dにします。\n",
        "keras_clf.add(keras.layers.Flatten(input_shape=[28,28]))\n",
        "#output layer を作る.10個のクラスがあるので、10個のニューロンが必要。\n",
        "keras_clf.add(keras.layers.Dense(10,activation = 'softmax'))\n",
        "\n",
        "keras_clf.summary()\n",
        "keras_clf.compile(loss=\"sparse_categorical_crossentropy\", optimizer=\"sgd\",metrics=[\"accuracy\"])\n",
        "history = keras_clf.fit(train_X, train_Y, epochs=20, validation_data=(valid_X, valid_Y))"
      ],
      "metadata": {
        "colab": {
          "base_uri": "https://localhost:8080/"
        },
        "id": "JQG02xbqkeeH",
        "outputId": "e7696e46-0920-48b3-cd5c-ca0dfb34b186"
      },
      "execution_count": 62,
      "outputs": [
        {
          "output_type": "stream",
          "name": "stdout",
          "text": [
            "Model: \"sequential_6\"\n",
            "_________________________________________________________________\n",
            " Layer (type)                Output Shape              Param #   \n",
            "=================================================================\n",
            " flatten_4 (Flatten)         (None, 784)               0         \n",
            "                                                                 \n",
            " dense_5 (Dense)             (None, 10)                7850      \n",
            "                                                                 \n",
            "=================================================================\n",
            "Total params: 7,850\n",
            "Trainable params: 7,850\n",
            "Non-trainable params: 0\n",
            "_________________________________________________________________\n",
            "Epoch 1/20\n",
            "1407/1407 [==============================] - 7s 5ms/step - loss: 0.8564 - accuracy: 0.7998 - val_loss: 0.5635 - val_accuracy: 0.8580\n",
            "Epoch 2/20\n",
            "1407/1407 [==============================] - 3s 2ms/step - loss: 0.4902 - accuracy: 0.8742 - val_loss: 0.4661 - val_accuracy: 0.8751\n",
            "Epoch 3/20\n",
            "1407/1407 [==============================] - 6s 4ms/step - loss: 0.4269 - accuracy: 0.8859 - val_loss: 0.4266 - val_accuracy: 0.8846\n",
            "Epoch 4/20\n",
            "1407/1407 [==============================] - 6s 4ms/step - loss: 0.3954 - accuracy: 0.8935 - val_loss: 0.4031 - val_accuracy: 0.8883\n",
            "Epoch 5/20\n",
            "1407/1407 [==============================] - 6s 4ms/step - loss: 0.3755 - accuracy: 0.8982 - val_loss: 0.3887 - val_accuracy: 0.8914\n",
            "Epoch 6/20\n",
            "1407/1407 [==============================] - 3s 2ms/step - loss: 0.3615 - accuracy: 0.9012 - val_loss: 0.3765 - val_accuracy: 0.8950\n",
            "Epoch 7/20\n",
            "1407/1407 [==============================] - 8s 6ms/step - loss: 0.3510 - accuracy: 0.9034 - val_loss: 0.3681 - val_accuracy: 0.8960\n",
            "Epoch 8/20\n",
            "1407/1407 [==============================] - 6s 4ms/step - loss: 0.3426 - accuracy: 0.9055 - val_loss: 0.3610 - val_accuracy: 0.8981\n",
            "Epoch 9/20\n",
            "1407/1407 [==============================] - 6s 4ms/step - loss: 0.3358 - accuracy: 0.9074 - val_loss: 0.3555 - val_accuracy: 0.8998\n",
            "Epoch 10/20\n",
            "1407/1407 [==============================] - 4s 3ms/step - loss: 0.3299 - accuracy: 0.9082 - val_loss: 0.3516 - val_accuracy: 0.9009\n",
            "Epoch 11/20\n",
            "1407/1407 [==============================] - 6s 4ms/step - loss: 0.3251 - accuracy: 0.9093 - val_loss: 0.3464 - val_accuracy: 0.9027\n",
            "Epoch 12/20\n",
            "1407/1407 [==============================] - 6s 4ms/step - loss: 0.3208 - accuracy: 0.9109 - val_loss: 0.3429 - val_accuracy: 0.9031\n",
            "Epoch 13/20\n",
            "1407/1407 [==============================] - 5s 4ms/step - loss: 0.3171 - accuracy: 0.9117 - val_loss: 0.3397 - val_accuracy: 0.9039\n",
            "Epoch 14/20\n",
            "1407/1407 [==============================] - 10s 7ms/step - loss: 0.3137 - accuracy: 0.9128 - val_loss: 0.3378 - val_accuracy: 0.9032\n",
            "Epoch 15/20\n",
            "1407/1407 [==============================] - 5s 4ms/step - loss: 0.3108 - accuracy: 0.9134 - val_loss: 0.3345 - val_accuracy: 0.9053\n",
            "Epoch 16/20\n",
            "1407/1407 [==============================] - 5s 4ms/step - loss: 0.3080 - accuracy: 0.9147 - val_loss: 0.3330 - val_accuracy: 0.9061\n",
            "Epoch 17/20\n",
            "1407/1407 [==============================] - 6s 4ms/step - loss: 0.3055 - accuracy: 0.9151 - val_loss: 0.3305 - val_accuracy: 0.9069\n",
            "Epoch 18/20\n",
            "1407/1407 [==============================] - 6s 4ms/step - loss: 0.3033 - accuracy: 0.9159 - val_loss: 0.3288 - val_accuracy: 0.9073\n",
            "Epoch 19/20\n",
            "1407/1407 [==============================] - 4s 3ms/step - loss: 0.3012 - accuracy: 0.9159 - val_loss: 0.3265 - val_accuracy: 0.9085\n",
            "Epoch 20/20\n",
            "1407/1407 [==============================] - 5s 3ms/step - loss: 0.2993 - accuracy: 0.9167 - val_loss: 0.3253 - val_accuracy: 0.9086\n"
          ]
        }
      ]
    },
    {
      "cell_type": "code",
      "source": [
        "pd.DataFrame(history.history).plot(figsize=(8,5))\n",
        "plt.grid(True)\n",
        "plt.gca()\n",
        "plt.xlabel(\"# of Epocs\")\n",
        "plt.show()"
      ],
      "metadata": {
        "colab": {
          "base_uri": "https://localhost:8080/",
          "height": 334
        },
        "id": "KlWTE9yNpGwQ",
        "outputId": "9bd76af4-f3dc-4195-e2f4-d7930f169c14"
      },
      "execution_count": 63,
      "outputs": [
        {
          "output_type": "display_data",
          "data": {
            "text/plain": [
              "<Figure size 576x360 with 1 Axes>"
            ],
            "image/png": "[encoded data removed]"
          },
          "metadata": {
            "needs_background": "light"
          }
        }
      ]
    },
    {
      "cell_type": "code",
      "source": [
        "#accuracyを計算\n",
        "from sklearn.metrics import accuracy_score\n",
        "print(\"Accuracy:\" +str(accuracy_score(test_Y,keras_clf.predict(test_X).argmax(axis=-1))))"
      ],
      "metadata": {
        "colab": {
          "base_uri": "https://localhost:8080/"
        },
        "id": "nyW25XehrI5i",
        "outputId": "16252355-280d-45ba-fd5f-52c218268af1"
      },
      "execution_count": 64,
      "outputs": [
        {
          "output_type": "stream",
          "name": "stdout",
          "text": [
            "Accuracy:0.9173\n"
          ]
        }
      ]
    },
    {
      "cell_type": "code",
      "source": [
        "#３のアウトプットノードに関連する重みを全部取って，28*28の2-Dに変換\n",
        "plt.imshow(np.reshape(keras_clf.get_weights()[0][:,3],(28,28)),cmap=\"seismic\")"
      ],
      "metadata": {
        "colab": {
          "base_uri": "https://localhost:8080/",
          "height": 283
        },
        "id": "KxgsljdhyRcY",
        "outputId": "62b8af37-e392-44f8-fa6c-9a6de248b64e"
      },
      "execution_count": 66,
      "outputs": [
        {
          "output_type": "execute_result",
          "data": {
            "text/plain": [
              "<matplotlib.image.AxesImage at 0x7ff4e7caabd0>"
            ]
          },
          "metadata": {},
          "execution_count": 66
        },
        {
          "output_type": "display_data",
          "data": {
            "text/plain": [
              "<Figure size 432x288 with 1 Axes>"
            ],
            "image/png": "[encoded data removed]"
          },
          "metadata": {
            "needs_background": "light"
          }
        }
      ]
    }
  ]
}