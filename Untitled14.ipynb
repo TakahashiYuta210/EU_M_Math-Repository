{
  "nbformat": 4,
  "nbformat_minor": 0,
  "metadata": {
    "colab": {
      "name": "Untitled14.ipynb",
      "provenance": [],
      "authorship_tag": "ABX9TyM52agrRIrY/E4OuSDmcxND",
      "include_colab_link": true
    },
    "kernelspec": {
      "name": "python3",
      "display_name": "Python 3"
    },
    "language_info": {
      "name": "python"
    }
  },
  "cells": [
    {
      "cell_type": "markdown",
      "metadata": {
        "id": "view-in-github",
        "colab_type": "text"
      },
      "source": [
        "<a href=\"https://colab.research.google.com/github/TakahashiYuta210/EU_M_Math-Repository/blob/Chap04_Ex-13/Untitled14.ipynb\" target=\"_parent\"><img src=\"https://colab.research.google.com/assets/colab-badge.svg\" alt=\"Open In Colab\"/></a>"
      ]
    },
    {
      "cell_type": "code",
      "execution_count": 1,
      "metadata": {
        "id": "zogNCSvnL-C8"
      },
      "outputs": [],
      "source": [
        "import numpy as np\n",
        "import scipy as sp\n",
        "import pandas as pd\n",
        "from pandas import Series, DataFrame\n",
        "import numpy.random as random\n",
        "\n",
        "import matplotlib.pyplot as plt\n",
        "import matplotlib as mpl\n",
        "import seaborn as sns\n",
        "%matplotlib inline\n",
        "%precision 3\n",
        "np.random.seed(0)"
      ]
    },
    {
      "cell_type": "code",
      "source": [
        "import requests\n",
        "import zipfile\n",
        "from io import StringIO\n",
        "import io\n",
        "zip_file_url = 'http://archive.ics.uci.edu/ml/machine-learning-databases/00356/student.zip'\n",
        "\n",
        "r = requests.get(zip_file_url, stream=True)\n",
        "z = zipfile.ZipFile(io.BytesIO(r.content))\n",
        "z.extractall()\n",
        "\n",
        "student_data_math = pd.read_csv('student-mat.csv', sep=';')\n",
        "student_data_por = pd.read_csv('student-por.csv', sep=';')\n",
        "\n",
        "student_data_merge = pd.merge(student_data_math,\n",
        "                              student_data_por\n",
        "                              ,on=['school', 'sex', 'age', 'address', 'famsize', 'Pstatus', 'Medu'\n",
        "                              , 'Fedu', 'Mjob', 'Fjob', 'reason', 'nursery', 'internet']\n",
        "                              , suffixes=('_math', '_por'))"
      ],
      "metadata": {
        "id": "W_KsIyn2L-xm"
      },
      "execution_count": 2,
      "outputs": []
    },
    {
      "cell_type": "code",
      "source": [
        "print('数学欠席:', student_data_merge.absences_math.mean())\n",
        "print('ポルトガル語欠席:', student_data_merge.absences_por.mean())\n",
        "from scipy import stats\n",
        "t, p = stats.ttest_rel(student_data_merge.absences_math, student_data_merge.absences_por)\n",
        "print('p値;', p)"
      ],
      "metadata": {
        "colab": {
          "base_uri": "https://localhost:8080/"
        },
        "id": "6s8X5AjIMCqy",
        "outputId": "72096e88-4e2f-4acb-c845-4fbc419cba08"
      },
      "execution_count": 4,
      "outputs": [
        {
          "output_type": "stream",
          "name": "stdout",
          "text": [
            "数学欠席: 5.319371727748691\n",
            "ポルトガル語欠席: 3.6727748691099475\n",
            "p値; 2.3441656888384195e-06\n"
          ]
        }
      ]
    },
    {
      "cell_type": "code",
      "source": [
        "print('数学勉強時間:', student_data_merge.studytime_math.mean())\n",
        "print('ポルトガル語勉強時間:', student_data_merge.studytime_por.mean())\n",
        "t, p = stats.ttest_rel(student_data_merge.studytime_math, student_data_merge.studytime_por)\n",
        "print('p値;', p)"
      ],
      "metadata": {
        "colab": {
          "base_uri": "https://localhost:8080/"
        },
        "id": "kwfpPtqgNGP2",
        "outputId": "f8a19765-98a4-4ed3-9357-0f3edfb3aeac"
      },
      "execution_count": 6,
      "outputs": [
        {
          "output_type": "stream",
          "name": "stdout",
          "text": [
            "数学勉強時間: 2.0340314136125652\n",
            "ポルトガル語勉強時間: 2.0392670157068062\n",
            "p値; 0.5643842756976525\n"
          ]
        }
      ]
    },
    {
      "cell_type": "code",
      "source": [
        ""
      ],
      "metadata": {
        "id": "J9VJpFWPNn20"
      },
      "execution_count": null,
      "outputs": []
    }
  ]
}