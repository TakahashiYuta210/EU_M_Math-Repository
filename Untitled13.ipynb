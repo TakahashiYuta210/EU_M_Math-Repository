{
  "nbformat": 4,
  "nbformat_minor": 0,
  "metadata": {
    "colab": {
      "name": "Untitled13.ipynb",
      "provenance": [],
      "authorship_tag": "ABX9TyM0AGB45uY88nx0MAfrIRHY",
      "include_colab_link": true
    },
    "kernelspec": {
      "name": "python3",
      "display_name": "Python 3"
    },
    "language_info": {
      "name": "python"
    }
  },
  "cells": [
    {
      "cell_type": "markdown",
      "metadata": {
        "id": "view-in-github",
        "colab_type": "text"
      },
      "source": [
        "<a href=\"https://colab.research.google.com/github/TakahashiYuta210/EU_M_Math-Repository/blob/Chap04_Ex-13/Untitled13.ipynb\" target=\"_parent\"><img src=\"https://colab.research.google.com/assets/colab-badge.svg\" alt=\"Open In Colab\"/></a>"
      ]
    },
    {
      "cell_type": "code",
      "execution_count": 2,
      "metadata": {
        "id": "UFOEjycU_isZ"
      },
      "outputs": [],
      "source": [
        "import numpy as np\n",
        "import scipy as sp\n",
        "import pandas as pd\n",
        "from pandas import Series, DataFrame\n",
        "import numpy.random as random\n",
        "\n",
        "import matplotlib.pyplot as plt\n",
        "import matplotlib as mpl\n",
        "import seaborn as sns\n",
        "%matplotlib inline\n",
        "%precision 3\n",
        "np.random.seed(0)"
      ]
    },
    {
      "cell_type": "code",
      "source": [
        "import requests\n",
        "import zipfile\n",
        "from io import StringIO\n",
        "import io\n",
        "zip_file_url = 'http://archive.ics.uci.edu/ml/machine-learning-databases/00356/student.zip'\n",
        "\n",
        "r = requests.get(zip_file_url, stream=True)\n",
        "z = zipfile.ZipFile(io.BytesIO(r.content))\n",
        "z.extractall()\n",
        "\n",
        "student_data_math = pd.read_csv('student-mat.csv', sep=';')\n",
        "student_data_por = pd.read_csv('student-por.csv', sep=';')\n",
        "\n",
        "student_data_merge = pd.merge(student_data_math,\n",
        "                              student_data_por\n",
        "                              ,on=['school', 'sex', 'age', 'address', 'famsize', 'Pstatus', 'Medu'\n",
        "                              , 'Fedu', 'Mjob', 'Fjob', 'reason', 'nursery', 'internet']\n",
        "                              , suffixes=('_math', '_por'))"
      ],
      "metadata": {
        "id": "TgqLqra0_mF5"
      },
      "execution_count": 5,
      "outputs": []
    },
    {
      "cell_type": "code",
      "source": [
        "print('G2数学の成績:', student_data_merge.G2_math.mean())\n",
        "print('G2ポルトガル語の成績平均:', student_data_merge.G2_por.mean())\n",
        "from scipy import stats\n",
        "t, p = stats.ttest_rel(student_data_merge.G2_math, student_data_merge.G2_por)\n",
        "print('p値=', p)"
      ],
      "metadata": {
        "colab": {
          "base_uri": "https://localhost:8080/"
        },
        "id": "pZs6ZbWvH85k",
        "outputId": "78b2ac3e-20c2-4a47-d9e1-1fed495e7da6"
      },
      "execution_count": 9,
      "outputs": [
        {
          "output_type": "stream",
          "name": "stdout",
          "text": [
            "G2数学の成績: 10.712041884816754\n",
            "G2ポルトガル語の成績平均: 12.238219895287958\n",
            "p値= 4.0622824801348043e-19\n"
          ]
        }
      ]
    },
    {
      "cell_type": "code",
      "source": [
        "print('G3数学の成績:', student_data_merge.G3_math.mean())\n",
        "print('G3ポルトガル語の成績平均:', student_data_merge.G3_por.mean())\n",
        "t, p = stats.ttest_rel(student_data_merge.G3_math, student_data_merge.G3_por)\n",
        "print('p値=', p)"
      ],
      "metadata": {
        "colab": {
          "base_uri": "https://localhost:8080/"
        },
        "id": "B4eyh6f6JO2r",
        "outputId": "8dacd477-a6f6-4c39-e330-9b2e3d54fe15"
      },
      "execution_count": 11,
      "outputs": [
        {
          "output_type": "stream",
          "name": "stdout",
          "text": [
            "G3数学の成績: 10.387434554973822\n",
            "G3ポルトガル語の成績平均: 12.515706806282722\n",
            "p値= 5.561492113688385e-21\n"
          ]
        }
      ]
    }
  ]
}